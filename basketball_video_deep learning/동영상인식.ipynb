{
 "cells": [
  {
   "cell_type": "code",
   "execution_count": null,
   "metadata": {},
   "outputs": [],
   "source": [
    "!pip install opencv-python"
   ]
  },
  {
   "cell_type": "code",
   "execution_count": null,
   "metadata": {},
   "outputs": [],
   "source": [
    "cv2.__version__ "
   ]
  },
  {
   "cell_type": "markdown",
   "metadata": {},
   "source": [
    "# 동영상 인식 가능했음"
   ]
  },
  {
   "cell_type": "code",
   "execution_count": null,
   "metadata": {},
   "outputs": [],
   "source": [
    "import numpy as np\n",
    "import cv2\n",
    "    \n",
    "detector = cv2.CascadeClassifier('./haarcascades/haarcascade_frontalface_default.xml')\n",
    "cap = cv2.VideoCapture('./img2/nba_sample2.mp4')\n",
    " \n",
    "while (True):\n",
    "    ret, img = cap.read()\n",
    "    if not img is None:\n",
    "        gray = cv2.cvtColor(img, cv2.COLOR_BGR2GRAY)\n",
    "    faces = detector.detectMultiScale(gray, 1.3, 5)\n",
    "    for (x, y, w, h) in faces:\n",
    "        cv2.rectangle(img, (x, y), (x + w, y + h), (255, 0, 0), 2)\n",
    " \n",
    "    cv2.imshow('frame', img)\n",
    "    if cv2.waitKey(1) & 0xFF == ord('q'):\n",
    "        break\n",
    "cap.release()\n",
    "cv2.destroyAllWindows()"
   ]
  },
  {
   "cell_type": "markdown",
   "metadata": {},
   "source": [
    "# 농구공 인식"
   ]
  },
  {
   "cell_type": "code",
   "execution_count": null,
   "metadata": {},
   "outputs": [],
   "source": [
    "import numpy as np\n",
    "import os\n",
    "import six.moves.urllib as urllib\n",
    "import sys\n",
    "import tarfile\n",
    "import tensorflow as tf\n",
    "import zipfile\n",
    " \n",
    "from collections import defaultdict\n",
    "from io import StringIO\n",
    "from matplotlib import pyplot as plt\n",
    "from PIL import Image\n",
    "from grabscreen import grab_screen\n",
    "import cv2\n",
    " \n",
    "# This is needed to display the images.\n",
    "get_ipython().magic('matplotlib inline')\n",
    " \n",
    "# This is needed since the notebook is stored in the object_detection folder.\n",
    "sys.path.append(\"..\")\n",
    " \n",
    " \n",
    "# ## Object detection imports\n",
    "# Here are the imports from the object detection module.\n",
    " \n",
    "from utils import label_map_util\n",
    "from utils import visualization_utils as vis_util\n",
    " \n",
    " \n",
    "# # Model preparation \n",
    "# What model to download.\n",
    "MODEL_NAME = 'ssd_mobilenet_v1_coco_11_06_2017'\n",
    "MODEL_FILE = MODEL_NAME + '.tar.gz'\n",
    "DOWNLOAD_BASE = 'http://download.tensorflow.org/models/object_detection/'\n",
    " \n",
    "# Path to frozen detection graph. This is the actual model that is used for the object detection.\n",
    "PATH_TO_CKPT = MODEL_NAME + '/frozen_inference_graph.pb'\n",
    " \n",
    "# List of the strings that is used to add correct label for each box.\n",
    "PATH_TO_LABELS = os.path.join('data', 'mscoco_label_map.pbtxt')\n",
    " \n",
    "NUM_CLASSES = 90\n",
    " \n",
    " \n",
    "# ## Download Model\n",
    "# ssd_mobilenet_v1_coco_11_06_2017 이라는 모델을 다운로드하는 코드\n",
    "opener = urllib.request.URLopener()\n",
    "opener.retrieve(DOWNLOAD_BASE + MODEL_FILE, MODEL_FILE)\n",
    "tar_file = tarfile.open(MODEL_FILE)\n",
    "for file in tar_file.getmembers():\n",
    "  file_name = os.path.basename(file.name)\n",
    "  if 'frozen_inference_graph.pb' in file_name:\n",
    "    tar_file.extract(file, os.getcwd())\n",
    " \n",
    " \n",
    "# 하나의 그래프(노드&엣지로 이루어진 하나의 시스템)를 생성합니다\n",
    "detection_graph = tf.Graph()\n",
    "with detection_graph.as_default():\n",
    "    od_graph_def = tf.GraphDef()\n",
    "    \n",
    "    # CKPT (저장된 가중치) 파일을 불러온 후 모델을 복원하는 코드\n",
    "    with tf.gfile.GFile(PATH_TO_CKPT, 'rb') as fid:\n",
    "        serialized_graph = fid.read()\n",
    "        od_graph_def.ParseFromString(serialized_graph)\n",
    "        tf.import_graph_def(od_graph_def, name='')\n",
    " \n",
    " \n",
    "# 라벨, 카테코리 데이터를 불러오는 코드\n",
    "label_map = label_map_util.load_labelmap(PATH_TO_LABELS)\n",
    "categories = label_map_util.convert_label_map_to_categories(label_map, max_num_classes=NUM_CLASSES, use_display_name=True)\n",
    "category_index = label_map_util.create_category_index(categories)\n",
    " \n",
    " \n",
    "# image vector를 numpy array로 변경하는 함수\n",
    "def load_image_into_numpy_array(image):\n",
    "    (im_width, im_height) = image.size\n",
    "    return np.array(image.getdata()).reshape((im.height, im_width, 3)).astype(np.uint8)\n",
    " \n",
    " \n",
    "# 위에서 복원한 모델이 있는 그래프에서\n",
    "with detection_graph.as_default():\n",
    "    # 세션을 하나 실행한다\n",
    "    with tf.Session(graph=detection_graph) as sess:\n",
    "        while True:\n",
    "            # 아래 2줄이 Object Detection 예제코드에서 수정된 부분이다\n",
    "            # grab_screen을 사용해서 해당 윈도우를 캡처하는 코드 \n",
    "            screen = cv2.resize(grab_screen(region=(0,40,800,600)), (800,600))\n",
    "            image_np = cv2.cvtColor(screen, cv2.COLOR_BGR2RGB)\n",
    " \n",
    "            # 이미지를 인식해서 box, score, classes를 그려주는 코드\n",
    "            image_np_expanded = np.expand_dims(image_np, axis=0)\n",
    "            image_tensor = detection_graph.get_tensor_by_name('image_tensor:0')\n",
    " \n",
    "            boxes = detection_graph.get_tensor_by_name('detection_boxes:0')\n",
    " \n",
    "            scores = detection_graph.get_tensor_by_name('detection_scores:0')\n",
    "            classes = detection_graph.get_tensor_by_name('detection_classes:0')\n",
    "            num_detections = detection_graph.get_tensor_by_name('num_detections:0')\n",
    " \n",
    "            (boxes, scores, classes, num_detections) = sess.run([boxes, scores, classes, num_detections], feed_dict={image_tensor: image_np_expanded})\n",
    " \n",
    "            # 실제로 이 코드가 box와 label을 visualize해주는 코드인듯하다\n",
    "            vis_util.visualize_boxes_and_labels_on_image_array(\n",
    "                    image_np,\n",
    "                    np.squeeze(boxes),\n",
    "                    np.squeeze(classes).astype(np.int32),\n",
    "                    np.squeeze(scores),\n",
    "                    category_index,\n",
    "                    use_normalized_coordinates=True,\n",
    "                    line_thickness=8)\n",
    " \n",
    "            # 콘솔창을 띄운다\n",
    "            cv2.imshow('pygta-p17', image_np)\n",
    " \n",
    "            # q키를 누르면 종료한다\n",
    "            if cv2.waitKey(25) & 0xff == ord('q'):\n",
    "                cv2.destroyAllWindows()\n",
    "                break"
   ]
  },
  {
   "cell_type": "markdown",
   "metadata": {},
   "source": [
    "# 이미지 인식 가능했음"
   ]
  },
  {
   "cell_type": "code",
   "execution_count": null,
   "metadata": {},
   "outputs": [],
   "source": [
    "import cvlib as cv\n",
    "from cvlib.object_detection import draw_bbox\n",
    "\n",
    "image_path = 'ball.PNG' # 여기에는 테스트할 이미지의 경로 및 이름을 넣어주시면 됩니다. \n",
    "im = cv2.imread(image_path) # 이미지 읽기\n",
    "# detector = cv2.CascadeClassifier('./haarcascades/haarcascade_frontalface_default.xml')\n",
    "# cap = cv2.VideoCapture('test.mp4')\n",
    "\n",
    "# object detection (물체 검출)\n",
    "bbox, label, conf = cv.detect_common_objects(im)\n",
    "\n",
    "print(bbox, label, conf)\n",
    "\n",
    "im = draw_bbox(im, bbox, label, conf) \n",
    "\n",
    "\n",
    "cv2.imwrite('result.jpg', im) # 이미지 쓰기"
   ]
  },
  {
   "cell_type": "code",
   "execution_count": null,
   "metadata": {},
   "outputs": [],
   "source": [
    "!pip install --upgrade tensorflow-gpu"
   ]
  },
  {
   "cell_type": "code",
   "execution_count": null,
   "metadata": {},
   "outputs": [],
   "source": [
    "!pip install cvlib"
   ]
  },
  {
   "cell_type": "code",
   "execution_count": null,
   "metadata": {},
   "outputs": [],
   "source": [
    "!pip install --user tensorflow"
   ]
  },
  {
   "cell_type": "code",
   "execution_count": null,
   "metadata": {},
   "outputs": [],
   "source": [
    "!pip install grab-screen"
   ]
  }
 ],
 "metadata": {
  "kernelspec": {
   "display_name": "Python 3",
   "language": "python",
   "name": "python3"
  },
  "language_info": {
   "codemirror_mode": {
    "name": "ipython",
    "version": 3
   },
   "file_extension": ".py",
   "mimetype": "text/x-python",
   "name": "python",
   "nbconvert_exporter": "python",
   "pygments_lexer": "ipython3",
   "version": "3.6.5"
  }
 },
 "nbformat": 4,
 "nbformat_minor": 2
}
