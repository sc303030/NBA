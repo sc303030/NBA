{
 "cells": [
  {
   "cell_type": "code",
   "execution_count": 1,
   "id": "b4ed651d",
   "metadata": {},
   "outputs": [],
   "source": [
    "from urllib.request import urlopen\n",
    "from bs4 import BeautifulSoup\n",
    "from urllib.request import urlopen\n",
    "from urllib.error   import HTTPError\n",
    "from urllib.error   import URLError\n",
    "\n",
    "import pandas as pd"
   ]
  },
  {
   "cell_type": "code",
   "execution_count": 4,
   "id": "33084732",
   "metadata": {},
   "outputs": [],
   "source": [
    "from selenium import webdriver\n",
    "from selenium.webdriver.chrome.service import Service as ChromeService\n",
    "import time\n",
    "from selenium.webdriver.common.by import By\n",
    "\n",
    "options = webdriver.ChromeOptions()\n",
    "service = ChromeService(executable_path='./chromedriver.exe')\n",
    "driver = webdriver.Chrome(service=service, options=options)"
   ]
  },
  {
   "cell_type": "code",
   "execution_count": 6,
   "id": "2513a97f",
   "metadata": {},
   "outputs": [],
   "source": [
    "def craw(start,end):\n",
    "    page_list = [ i for i in range(start,end,25)]\n",
    "    Date = []\n",
    "    Team = []\n",
    "    Acquired = []\n",
    "    Relinquished = []\n",
    "    Notes = []\n",
    "    for page in page_list:\n",
    "        driver.get('http://www.prosportstransactions.com/basketball/Search/SearchResults.php?Player=&Team=&BeginDate=1998-01-01&EndDate=2020-12-31&ILChkBx=yes&Submit=Search&start='+str(page))\n",
    "        page = driver.find_elements(By.CSS_SELECTOR, '.datatable')\n",
    "        if len(page) != 0:\n",
    "            for i in page[0].find_elements(By.TAG_NAME, 'tbody'):\n",
    "                k = i.find_elements(By.TAG_NAME, 'tr')\n",
    "                for data in k:\n",
    "                    ll = data.find_elements(By.TAG_NAME, 'td')\n",
    "                    Date.append(ll[0].text)\n",
    "                    Team.append(ll[1].text)\n",
    "                    Acquired.append(ll[2].text)\n",
    "                    Relinquished.append(ll[3].text)\n",
    "                    Notes.append(ll[4].text)\n",
    "    return   Date,Team, Acquired,Relinquished, Notes    "
   ]
  },
  {
   "cell_type": "code",
   "execution_count": 8,
   "id": "fd93b51b",
   "metadata": {},
   "outputs": [
    {
     "ename": "WebDriverException",
     "evalue": "Message: chrome not reachable\n  (Session info: chrome=104.0.5112.81)\nStacktrace:\nBacktrace:\n\tOrdinal0 [0x008678B3+2193587]\n\tOrdinal0 [0x00800681+1771137]\n\tOrdinal0 [0x00714070+802928]\n\tOrdinal0 [0x00709AB2+760498]\n\tOrdinal0 [0x006FCEAF+708271]\n\tOrdinal0 [0x00701142+725314]\n\tOrdinal0 [0x007055C9+742857]\n\tOrdinal0 [0x00715500+808192]\n\tOrdinal0 [0x0076D2C2+1168066]\n\tOrdinal0 [0x0075D5C6+1103302]\n\tOrdinal0 [0x007377E0+948192]\n\tOrdinal0 [0x007386E6+952038]\n\tGetHandleVerifier [0x00B10CB2+2738370]\n\tGetHandleVerifier [0x00B021B8+2678216]\n\tGetHandleVerifier [0x008F17AA+512954]\n\tGetHandleVerifier [0x008F0856+509030]\n\tOrdinal0 [0x0080743B+1799227]\n\tOrdinal0 [0x0080BB68+1817448]\n\tOrdinal0 [0x0080BC55+1817685]\n\tOrdinal0 [0x00815230+1856048]\n\tBaseThreadInitThunk [0x75986739+25]\n\tRtlGetFullPathName_UEx [0x779B8FEF+1215]\n\tRtlGetFullPathName_UEx [0x779B8FBD+1165]\n",
     "output_type": "error",
     "traceback": [
      "\u001b[1;31m---------------------------------------------------------------------------\u001b[0m",
      "\u001b[1;31mWebDriverException\u001b[0m                        Traceback (most recent call last)",
      "Input \u001b[1;32mIn [8]\u001b[0m, in \u001b[0;36m<cell line: 1>\u001b[1;34m()\u001b[0m\n\u001b[1;32m----> 1\u001b[0m Date,Team, Acquired,Relinquished, Notes \u001b[38;5;241m=\u001b[39m \u001b[43mcraw\u001b[49m\u001b[43m(\u001b[49m\u001b[38;5;241;43m0\u001b[39;49m\u001b[43m,\u001b[49m\u001b[38;5;241;43m5001\u001b[39;49m\u001b[43m)\u001b[49m\n\u001b[0;32m      2\u001b[0m Date1,Team1, Acquired1,Relinquished1, Notes1 \u001b[38;5;241m=\u001b[39m craw(\u001b[38;5;241m5001\u001b[39m,\u001b[38;5;241m10001\u001b[39m)\n\u001b[0;32m      3\u001b[0m Date2,Team2, Acquired2,Relinquished2, Notes2 \u001b[38;5;241m=\u001b[39m craw(\u001b[38;5;241m10001\u001b[39m,\u001b[38;5;241m15001\u001b[39m)\n",
      "Input \u001b[1;32mIn [6]\u001b[0m, in \u001b[0;36mcraw\u001b[1;34m(start, end)\u001b[0m\n\u001b[0;32m     13\u001b[0m k \u001b[38;5;241m=\u001b[39m i\u001b[38;5;241m.\u001b[39mfind_elements(By\u001b[38;5;241m.\u001b[39mTAG_NAME, \u001b[38;5;124m'\u001b[39m\u001b[38;5;124mtr\u001b[39m\u001b[38;5;124m'\u001b[39m)\n\u001b[0;32m     14\u001b[0m \u001b[38;5;28;01mfor\u001b[39;00m data \u001b[38;5;129;01min\u001b[39;00m k:\n\u001b[1;32m---> 15\u001b[0m     ll \u001b[38;5;241m=\u001b[39m \u001b[43mdata\u001b[49m\u001b[38;5;241;43m.\u001b[39;49m\u001b[43mfind_elements\u001b[49m\u001b[43m(\u001b[49m\u001b[43mBy\u001b[49m\u001b[38;5;241;43m.\u001b[39;49m\u001b[43mTAG_NAME\u001b[49m\u001b[43m,\u001b[49m\u001b[43m \u001b[49m\u001b[38;5;124;43m'\u001b[39;49m\u001b[38;5;124;43mtd\u001b[39;49m\u001b[38;5;124;43m'\u001b[39;49m\u001b[43m)\u001b[49m\n\u001b[0;32m     16\u001b[0m     Date\u001b[38;5;241m.\u001b[39mappend(ll[\u001b[38;5;241m0\u001b[39m]\u001b[38;5;241m.\u001b[39mtext)\n\u001b[0;32m     17\u001b[0m     Team\u001b[38;5;241m.\u001b[39mappend(ll[\u001b[38;5;241m1\u001b[39m]\u001b[38;5;241m.\u001b[39mtext)\n",
      "File \u001b[1;32m~\\Anaconda3\\envs\\nba_django\\lib\\site-packages\\selenium\\webdriver\\remote\\webelement.py:443\u001b[0m, in \u001b[0;36mWebElement.find_elements\u001b[1;34m(self, by, value)\u001b[0m\n\u001b[0;32m    440\u001b[0m     by \u001b[38;5;241m=\u001b[39m By\u001b[38;5;241m.\u001b[39mCSS_SELECTOR\n\u001b[0;32m    441\u001b[0m     value \u001b[38;5;241m=\u001b[39m \u001b[38;5;124m'\u001b[39m\u001b[38;5;124m[name=\u001b[39m\u001b[38;5;124m\"\u001b[39m\u001b[38;5;132;01m%s\u001b[39;00m\u001b[38;5;124m\"\u001b[39m\u001b[38;5;124m]\u001b[39m\u001b[38;5;124m'\u001b[39m \u001b[38;5;241m%\u001b[39m value\n\u001b[1;32m--> 443\u001b[0m \u001b[38;5;28;01mreturn\u001b[39;00m \u001b[38;5;28;43mself\u001b[39;49m\u001b[38;5;241;43m.\u001b[39;49m\u001b[43m_execute\u001b[49m\u001b[43m(\u001b[49m\u001b[43mCommand\u001b[49m\u001b[38;5;241;43m.\u001b[39;49m\u001b[43mFIND_CHILD_ELEMENTS\u001b[49m\u001b[43m,\u001b[49m\n\u001b[0;32m    444\u001b[0m \u001b[43m                     \u001b[49m\u001b[43m{\u001b[49m\u001b[38;5;124;43m\"\u001b[39;49m\u001b[38;5;124;43musing\u001b[39;49m\u001b[38;5;124;43m\"\u001b[39;49m\u001b[43m:\u001b[49m\u001b[43m \u001b[49m\u001b[43mby\u001b[49m\u001b[43m,\u001b[49m\u001b[43m \u001b[49m\u001b[38;5;124;43m\"\u001b[39;49m\u001b[38;5;124;43mvalue\u001b[39;49m\u001b[38;5;124;43m\"\u001b[39;49m\u001b[43m:\u001b[49m\u001b[43m \u001b[49m\u001b[43mvalue\u001b[49m\u001b[43m}\u001b[49m\u001b[43m)\u001b[49m[\u001b[38;5;124m'\u001b[39m\u001b[38;5;124mvalue\u001b[39m\u001b[38;5;124m'\u001b[39m]\n",
      "File \u001b[1;32m~\\Anaconda3\\envs\\nba_django\\lib\\site-packages\\selenium\\webdriver\\remote\\webelement.py:396\u001b[0m, in \u001b[0;36mWebElement._execute\u001b[1;34m(self, command, params)\u001b[0m\n\u001b[0;32m    394\u001b[0m     params \u001b[38;5;241m=\u001b[39m {}\n\u001b[0;32m    395\u001b[0m params[\u001b[38;5;124m'\u001b[39m\u001b[38;5;124mid\u001b[39m\u001b[38;5;124m'\u001b[39m] \u001b[38;5;241m=\u001b[39m \u001b[38;5;28mself\u001b[39m\u001b[38;5;241m.\u001b[39m_id\n\u001b[1;32m--> 396\u001b[0m \u001b[38;5;28;01mreturn\u001b[39;00m \u001b[38;5;28;43mself\u001b[39;49m\u001b[38;5;241;43m.\u001b[39;49m\u001b[43m_parent\u001b[49m\u001b[38;5;241;43m.\u001b[39;49m\u001b[43mexecute\u001b[49m\u001b[43m(\u001b[49m\u001b[43mcommand\u001b[49m\u001b[43m,\u001b[49m\u001b[43m \u001b[49m\u001b[43mparams\u001b[49m\u001b[43m)\u001b[49m\n",
      "File \u001b[1;32m~\\Anaconda3\\envs\\nba_django\\lib\\site-packages\\selenium\\webdriver\\remote\\webdriver.py:435\u001b[0m, in \u001b[0;36mWebDriver.execute\u001b[1;34m(self, driver_command, params)\u001b[0m\n\u001b[0;32m    433\u001b[0m response \u001b[38;5;241m=\u001b[39m \u001b[38;5;28mself\u001b[39m\u001b[38;5;241m.\u001b[39mcommand_executor\u001b[38;5;241m.\u001b[39mexecute(driver_command, params)\n\u001b[0;32m    434\u001b[0m \u001b[38;5;28;01mif\u001b[39;00m response:\n\u001b[1;32m--> 435\u001b[0m     \u001b[38;5;28;43mself\u001b[39;49m\u001b[38;5;241;43m.\u001b[39;49m\u001b[43merror_handler\u001b[49m\u001b[38;5;241;43m.\u001b[39;49m\u001b[43mcheck_response\u001b[49m\u001b[43m(\u001b[49m\u001b[43mresponse\u001b[49m\u001b[43m)\u001b[49m\n\u001b[0;32m    436\u001b[0m     response[\u001b[38;5;124m'\u001b[39m\u001b[38;5;124mvalue\u001b[39m\u001b[38;5;124m'\u001b[39m] \u001b[38;5;241m=\u001b[39m \u001b[38;5;28mself\u001b[39m\u001b[38;5;241m.\u001b[39m_unwrap_value(\n\u001b[0;32m    437\u001b[0m         response\u001b[38;5;241m.\u001b[39mget(\u001b[38;5;124m'\u001b[39m\u001b[38;5;124mvalue\u001b[39m\u001b[38;5;124m'\u001b[39m, \u001b[38;5;28;01mNone\u001b[39;00m))\n\u001b[0;32m    438\u001b[0m     \u001b[38;5;28;01mreturn\u001b[39;00m response\n",
      "File \u001b[1;32m~\\Anaconda3\\envs\\nba_django\\lib\\site-packages\\selenium\\webdriver\\remote\\errorhandler.py:247\u001b[0m, in \u001b[0;36mErrorHandler.check_response\u001b[1;34m(self, response)\u001b[0m\n\u001b[0;32m    245\u001b[0m         alert_text \u001b[38;5;241m=\u001b[39m value[\u001b[38;5;124m'\u001b[39m\u001b[38;5;124malert\u001b[39m\u001b[38;5;124m'\u001b[39m]\u001b[38;5;241m.\u001b[39mget(\u001b[38;5;124m'\u001b[39m\u001b[38;5;124mtext\u001b[39m\u001b[38;5;124m'\u001b[39m)\n\u001b[0;32m    246\u001b[0m     \u001b[38;5;28;01mraise\u001b[39;00m exception_class(message, screen, stacktrace, alert_text)  \u001b[38;5;66;03m# type: ignore[call-arg]  # mypy is not smart enough here\u001b[39;00m\n\u001b[1;32m--> 247\u001b[0m \u001b[38;5;28;01mraise\u001b[39;00m exception_class(message, screen, stacktrace)\n",
      "\u001b[1;31mWebDriverException\u001b[0m: Message: chrome not reachable\n  (Session info: chrome=104.0.5112.81)\nStacktrace:\nBacktrace:\n\tOrdinal0 [0x008678B3+2193587]\n\tOrdinal0 [0x00800681+1771137]\n\tOrdinal0 [0x00714070+802928]\n\tOrdinal0 [0x00709AB2+760498]\n\tOrdinal0 [0x006FCEAF+708271]\n\tOrdinal0 [0x00701142+725314]\n\tOrdinal0 [0x007055C9+742857]\n\tOrdinal0 [0x00715500+808192]\n\tOrdinal0 [0x0076D2C2+1168066]\n\tOrdinal0 [0x0075D5C6+1103302]\n\tOrdinal0 [0x007377E0+948192]\n\tOrdinal0 [0x007386E6+952038]\n\tGetHandleVerifier [0x00B10CB2+2738370]\n\tGetHandleVerifier [0x00B021B8+2678216]\n\tGetHandleVerifier [0x008F17AA+512954]\n\tGetHandleVerifier [0x008F0856+509030]\n\tOrdinal0 [0x0080743B+1799227]\n\tOrdinal0 [0x0080BB68+1817448]\n\tOrdinal0 [0x0080BC55+1817685]\n\tOrdinal0 [0x00815230+1856048]\n\tBaseThreadInitThunk [0x75986739+25]\n\tRtlGetFullPathName_UEx [0x779B8FEF+1215]\n\tRtlGetFullPathName_UEx [0x779B8FBD+1165]\n"
     ]
    }
   ],
   "source": [
    "Date,Team, Acquired,Relinquished, Notes = craw(0,5001)\n",
    "Date1,Team1, Acquired1,Relinquished1, Notes1 = craw(5001,10001)\n",
    "Date2,Team2, Acquired2,Relinquished2, Notes2 = craw(10001,15001)"
   ]
  },
  {
   "cell_type": "code",
   "execution_count": null,
   "id": "8b44d6a6",
   "metadata": {},
   "outputs": [],
   "source": [
    "\n",
    "df1 = pd.DataFrame({\n",
    "    'Date':Date,\n",
    "    'Team' : Team,\n",
    "    'Acquired' : Acquired,\n",
    "    'Relinquished' : Relinquished,\n",
    "    'Notes' : Notes    \n",
    "                   })"
   ]
  },
  {
   "cell_type": "code",
   "execution_count": null,
   "id": "e8797c5a",
   "metadata": {},
   "outputs": [],
   "source": [
    "df2 = pd.DataFrame({\n",
    "    'Date':Date1,\n",
    "    'Team' : Team1,\n",
    "    'Acquired' : Acquired1,\n",
    "    'Relinquished' : Relinquished1,\n",
    "    'Notes' : Notes1    \n",
    "                   })"
   ]
  },
  {
   "cell_type": "code",
   "execution_count": null,
   "id": "100f9035",
   "metadata": {},
   "outputs": [],
   "source": [
    "df3 = pd.DataFrame({\n",
    "    'Date':Date2,\n",
    "    'Team' : Team2,\n",
    "    'Acquired' : Acquired2,\n",
    "    'Relinquished' : Relinquished2,\n",
    "    'Notes' : Notes2    \n",
    "                   })"
   ]
  },
  {
   "cell_type": "code",
   "execution_count": null,
   "id": "dbd7c558",
   "metadata": {},
   "outputs": [],
   "source": [
    "nba_injury_1998 = pd.concat([df1,df2,df3])\n",
    "drop_index = list(nba_injury_1998[nba_injury_1998['Date']==' Date'].index)\n",
    "nba_injury_1998 = nba_injury_1998.drop(drop_index).reset_index(drop=True)"
   ]
  },
  {
   "cell_type": "code",
   "execution_count": null,
   "id": "3420a25f",
   "metadata": {},
   "outputs": [],
   "source": [
    "for i in range(nba_injury_1998.shape[0]):\n",
    "    if nba_injury_1998.loc[i,'Relinquished'] != '':\n",
    "        nba_injury_1998.loc[i,'Relinquished'] = nba_injury_1998.loc[i,'Relinquished'].split('•')[1].strip()\n",
    "    if nba_injury_1998.loc[i,'Relinquished'] =='':\n",
    "        nba_injury_1998.loc[i,'Relinquished'] = nba_injury_1998.loc[i,'Relinquished']\n",
    "    if nba_injury_1998.loc[i,'Acquired'] != '':\n",
    "         nba_injury_1998.loc[i,'Acquired'] = nba_injury_1998.loc[i,'Acquired'].split('•')[1].strip()\n",
    "    if nba_injury_1998.loc[i,'Acquired'] == '':\n",
    "         nba_injury_1998.loc[i,'Acquired'] = nba_injury_1998.loc[i,'Acquired']"
   ]
  },
  {
   "cell_type": "code",
   "execution_count": null,
   "id": "e886f9f5",
   "metadata": {},
   "outputs": [],
   "source": [
    "for i in range(nba_injury_1998.shape[0]):\n",
    "    nba_injury_1998.loc[i,'Date'] = nba_injury_1998.loc[i,'Date'].strip()\n",
    "    nba_injury_1998.loc[i,'Team'] = nba_injury_1998.loc[i,'Team'].strip()\n",
    "    nba_injury_1998.loc[i,'Notes'] = nba_injury_1998.loc[i,'Notes'].strip()"
   ]
  },
  {
   "cell_type": "code",
   "execution_count": null,
   "id": "59df4c75",
   "metadata": {},
   "outputs": [],
   "source": []
  },
  {
   "cell_type": "code",
   "execution_count": null,
   "id": "90da9278",
   "metadata": {},
   "outputs": [],
   "source": []
  },
  {
   "cell_type": "code",
   "execution_count": null,
   "id": "fab0e298",
   "metadata": {},
   "outputs": [],
   "source": []
  },
  {
   "cell_type": "code",
   "execution_count": null,
   "id": "e663b5a8",
   "metadata": {},
   "outputs": [],
   "source": []
  }
 ],
 "metadata": {
  "kernelspec": {
   "display_name": "Python 3 (ipykernel)",
   "language": "python",
   "name": "python3"
  },
  "language_info": {
   "codemirror_mode": {
    "name": "ipython",
    "version": 3
   },
   "file_extension": ".py",
   "mimetype": "text/x-python",
   "name": "python",
   "nbconvert_exporter": "python",
   "pygments_lexer": "ipython3",
   "version": "3.10.4"
  }
 },
 "nbformat": 4,
 "nbformat_minor": 5
}
