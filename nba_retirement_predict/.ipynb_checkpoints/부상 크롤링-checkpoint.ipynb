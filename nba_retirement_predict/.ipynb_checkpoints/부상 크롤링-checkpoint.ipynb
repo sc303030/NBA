{
 "cells": [
  {
   "cell_type": "code",
   "execution_count": 1,
   "id": "b4ed651d",
   "metadata": {},
   "outputs": [
    {
     "ename": "ModuleNotFoundError",
     "evalue": "No module named 'pandas'",
     "output_type": "error",
     "traceback": [
      "\u001b[1;31m---------------------------------------------------------------------------\u001b[0m",
      "\u001b[1;31mModuleNotFoundError\u001b[0m                       Traceback (most recent call last)",
      "Input \u001b[1;32mIn [1]\u001b[0m, in \u001b[0;36m<cell line: 7>\u001b[1;34m()\u001b[0m\n\u001b[0;32m      4\u001b[0m \u001b[38;5;28;01mfrom\u001b[39;00m \u001b[38;5;21;01murllib\u001b[39;00m\u001b[38;5;21;01m.\u001b[39;00m\u001b[38;5;21;01merror\u001b[39;00m   \u001b[38;5;28;01mimport\u001b[39;00m HTTPError\n\u001b[0;32m      5\u001b[0m \u001b[38;5;28;01mfrom\u001b[39;00m \u001b[38;5;21;01murllib\u001b[39;00m\u001b[38;5;21;01m.\u001b[39;00m\u001b[38;5;21;01merror\u001b[39;00m   \u001b[38;5;28;01mimport\u001b[39;00m URLError\n\u001b[1;32m----> 7\u001b[0m \u001b[38;5;28;01mimport\u001b[39;00m \u001b[38;5;21;01mpandas\u001b[39;00m \u001b[38;5;28;01mas\u001b[39;00m \u001b[38;5;21;01mpd\u001b[39;00m\n",
      "\u001b[1;31mModuleNotFoundError\u001b[0m: No module named 'pandas'"
     ]
    }
   ],
   "source": [
    "from urllib.request import urlopen\n",
    "from bs4 import BeautifulSoup\n",
    "from urllib.request import urlopen\n",
    "from urllib.error   import HTTPError\n",
    "from urllib.error   import URLError\n",
    "\n",
    "import pandas as pd"
   ]
  },
  {
   "cell_type": "code",
   "execution_count": null,
   "id": "33084732",
   "metadata": {},
   "outputs": [],
   "source": [
    "from selenium import webdriver\n",
    "import time\n",
    "path = 'chromedriver.exe'\n",
    "driver = webdriver.Chrome(path)"
   ]
  },
  {
   "cell_type": "code",
   "execution_count": null,
   "id": "2513a97f",
   "metadata": {},
   "outputs": [],
   "source": [
    "def craw(start,end):\n",
    "    page_list = [ i for i in range(start,end,25)]\n",
    "    Date = []\n",
    "    Team = []\n",
    "    Acquired = []\n",
    "    Relinquished = []\n",
    "    Notes = []\n",
    "    for page in page_list:\n",
    "        driver.get('http://www.prosportstransactions.com/basketball/Search/SearchResults.php?Player=&Team=&BeginDate=1998-01-01&EndDate=2020-12-31&ILChkBx=yes&Submit=Search&start='+str(page))\n",
    "        page = driver.find_elements_by_css_selector('.datatable')\n",
    "        if len(page) != 0:\n",
    "            for i in page[0].find_elements_by_tag_name('tbody'):\n",
    "                k = i.find_elements_by_tag_name('tr')\n",
    "                for data in k:\n",
    "                    ll = data.find_elements_by_tag_name('td')\n",
    "                    Date.append(ll[0].text)\n",
    "                    Team.append(ll[1].text)\n",
    "                    Acquired.append(ll[2].text)\n",
    "                    Relinquished.append(ll[3].text)\n",
    "                    Notes.append(ll[4].text)\n",
    "    return   Date,Team, Acquired,Relinquished, Notes    "
   ]
  },
  {
   "cell_type": "code",
   "execution_count": null,
   "id": "fd93b51b",
   "metadata": {},
   "outputs": [],
   "source": [
    "Date,Team, Acquired,Relinquished, Notes = craw(0,5001)\n",
    "Date1,Team1, Acquired1,Relinquished1, Notes1 = craw(5001,10001)\n",
    "Date2,Team2, Acquired2,Relinquished2, Notes2 = craw(10001,15001)"
   ]
  },
  {
   "cell_type": "code",
   "execution_count": null,
   "id": "8b44d6a6",
   "metadata": {},
   "outputs": [],
   "source": [
    "df1 = pd.DataFrame({\n",
    "    'Date':Date,\n",
    "    'Team' : Team,\n",
    "    'Acquired' : Acquired,\n",
    "    'Relinquished' : Relinquished,\n",
    "    'Notes' : Notes    \n",
    "                   })"
   ]
  },
  {
   "cell_type": "code",
   "execution_count": null,
   "id": "e8797c5a",
   "metadata": {},
   "outputs": [],
   "source": [
    "df2 = pd.DataFrame({\n",
    "    'Date':Date1,\n",
    "    'Team' : Team1,\n",
    "    'Acquired' : Acquired1,\n",
    "    'Relinquished' : Relinquished1,\n",
    "    'Notes' : Notes1    \n",
    "                   })"
   ]
  },
  {
   "cell_type": "code",
   "execution_count": null,
   "id": "100f9035",
   "metadata": {},
   "outputs": [],
   "source": [
    "df3 = pd.DataFrame({\n",
    "    'Date':Date2,\n",
    "    'Team' : Team2,\n",
    "    'Acquired' : Acquired2,\n",
    "    'Relinquished' : Relinquished2,\n",
    "    'Notes' : Notes2    \n",
    "                   })"
   ]
  },
  {
   "cell_type": "code",
   "execution_count": null,
   "id": "dbd7c558",
   "metadata": {},
   "outputs": [],
   "source": [
    "nba_injury_1998 = pd.concat([df1,df2,df3])\n",
    "drop_index = list(nba_injury_1998[nba_injury_1998['Date']==' Date'].index)\n",
    "nba_injury_1998 = nba_injury_1998.drop(drop_index).reset_index(drop=True)"
   ]
  },
  {
   "cell_type": "code",
   "execution_count": null,
   "id": "3420a25f",
   "metadata": {},
   "outputs": [],
   "source": [
    "for i in range(nba_injury_1998.shape[0]):\n",
    "    if nba_injury_1998.loc[i,'Relinquished'] != '':\n",
    "        nba_injury_1998.loc[i,'Relinquished'] = nba_injury_1998.loc[i,'Relinquished'].split('•')[1].strip()\n",
    "    if nba_injury_1998.loc[i,'Relinquished'] =='':\n",
    "        nba_injury_1998.loc[i,'Relinquished'] = nba_injury_1998.loc[i,'Relinquished']\n",
    "    if nba_injury_1998.loc[i,'Acquired'] != '':\n",
    "         nba_injury_1998.loc[i,'Acquired'] = nba_injury_1998.loc[i,'Acquired'].split('•')[1].strip()\n",
    "    if nba_injury_1998.loc[i,'Acquired'] == '':\n",
    "         nba_injury_1998.loc[i,'Acquired'] = nba_injury_1998.loc[i,'Acquired']"
   ]
  },
  {
   "cell_type": "code",
   "execution_count": null,
   "id": "e886f9f5",
   "metadata": {},
   "outputs": [],
   "source": [
    "for i in range(nba_injury_1998.shape[0]):\n",
    "    nba_injury_1998.loc[i,'Date'] = nba_injury_1998.loc[i,'Date'].strip()\n",
    "    nba_injury_1998.loc[i,'Team'] = nba_injury_1998.loc[i,'Team'].strip()\n",
    "    nba_injury_1998.loc[i,'Notes'] = nba_injury_1998.loc[i,'Notes'].strip()"
   ]
  },
  {
   "cell_type": "code",
   "execution_count": null,
   "id": "59df4c75",
   "metadata": {},
   "outputs": [],
   "source": []
  },
  {
   "cell_type": "code",
   "execution_count": null,
   "id": "90da9278",
   "metadata": {},
   "outputs": [],
   "source": []
  },
  {
   "cell_type": "code",
   "execution_count": null,
   "id": "fab0e298",
   "metadata": {},
   "outputs": [],
   "source": []
  },
  {
   "cell_type": "code",
   "execution_count": null,
   "id": "e663b5a8",
   "metadata": {},
   "outputs": [],
   "source": []
  }
 ],
 "metadata": {
  "kernelspec": {
   "display_name": "Python 3 (ipykernel)",
   "language": "python",
   "name": "python3"
  },
  "language_info": {
   "codemirror_mode": {
    "name": "ipython",
    "version": 3
   },
   "file_extension": ".py",
   "mimetype": "text/x-python",
   "name": "python",
   "nbconvert_exporter": "python",
   "pygments_lexer": "ipython3",
   "version": "3.9.12"
  }
 },
 "nbformat": 4,
 "nbformat_minor": 5
}
